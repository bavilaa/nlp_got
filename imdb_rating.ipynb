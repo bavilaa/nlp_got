{
 "cells": [
  {
   "cell_type": "code",
   "execution_count": 4,
   "metadata": {},
   "outputs": [],
   "source": [
    "from imdb import IMDb\n",
    "ia = IMDb()"
   ]
  },
  {
   "cell_type": "code",
   "execution_count": 5,
   "metadata": {},
   "outputs": [],
   "source": [
    "#loading data from Game of Thrones\n",
    "\n",
    "series = ia.get_movie('0944947')"
   ]
  },
  {
   "cell_type": "code",
   "execution_count": 11,
   "metadata": {},
   "outputs": [
    {
     "name": "stdout",
     "output_type": "stream",
     "text": [
      "[1, 2, 3, 4, 5, 6, 7, 8]\n"
     ]
    }
   ],
   "source": [
    "#loading information about seasons and episodes\n",
    "ia.update(series, 'episodes')\n",
    "print(sorted(series['episodes'].keys()))"
   ]
  },
  {
   "cell_type": "code",
   "execution_count": 22,
   "metadata": {},
   "outputs": [
    {
     "name": "stdout",
     "output_type": "stream",
     "text": [
      "Winter Is Coming\n"
     ]
    }
   ],
   "source": [
    "episode1 = series['episodes'][1][1]\n"
   ]
  },
  {
   "cell_type": "code",
   "execution_count": 65,
   "metadata": {},
   "outputs": [
    {
     "name": "stdout",
     "output_type": "stream",
     "text": [
      "Winter Is Coming rating: 9.001234567891\n",
      "The Kingsroad rating: 8.801234567891\n",
      "Lord Snow rating: 8.701234567891\n",
      "Cripples, Bastards, and Broken Things rating: 8.801234567891\n",
      "The Wolf and the Lion rating: 9.101234567891\n",
      "A Golden Crown rating: 9.201234567891\n",
      "You Win or You Die rating: 9.201234567891\n",
      "The Pointy End rating: 9.001234567891\n",
      "Baelor rating: 9.601234567891\n",
      "Fire and Blood rating: 9.501234567891\n",
      "The North Remembers rating: 8.801234567891\n",
      "The Night Lands rating: 8.501234567891\n",
      "What Is Dead May Never Die rating: 8.801234567891\n",
      "Garden of Bones rating: 8.801234567891\n",
      "The Ghost of Harrenhal rating: 8.801234567891\n",
      "The Old Gods and the New rating: 9.101234567891\n",
      "A Man Without Honor rating: 8.901234567891\n",
      "The Prince of Winterfell rating: 8.801234567891\n",
      "Blackwater rating: 9.701234567891\n",
      "Valar Morghulis rating: 9.401234567891\n",
      "Valar Dohaeris rating: 8.801234567891\n",
      "Dark Wings, Dark Words rating: 8.601234567891\n",
      "Walk of Punishment rating: 8.901234567891\n",
      "And Now His Watch Is Ended rating: 9.601234567891\n",
      "Kissed by Fire rating: 9.001234567891\n",
      "The Climb rating: 8.801234567891\n",
      "The Bear and the Maiden Fair rating: 8.701234567891\n",
      "Second Sons rating: 9.001234567891\n",
      "The Rains of Castamere rating: 9.901234567891\n",
      "Mhysa rating: 9.101234567891\n",
      "Two Swords rating: 9.101234567891\n",
      "The Lion and the Rose rating: 9.701234567891\n",
      "Breaker of Chains rating: 8.901234567891\n",
      "Oathkeeper rating: 8.801234567891\n",
      "First of His Name rating: 8.701234567891\n",
      "The Laws of Gods and Men rating: 9.701234567891\n",
      "Mockingbird rating: 9.101234567891\n",
      "The Mountain and the Viper rating: 9.701234567891\n",
      "The Watchers on the Wall rating: 9.601234567891\n",
      "The Children rating: 9.701234567891\n",
      "The Wars to Come rating: 8.501234567891\n",
      "The House of Black and White rating: 8.501234567891\n",
      "High Sparrow rating: 8.501234567891\n",
      "Sons of the Harpy rating: 8.701234567891\n",
      "Kill the Boy rating: 8.601234567891\n",
      "Unbowed, Unbent, Unbroken rating: 8.001234567891\n",
      "The Gift rating: 9.001234567891\n",
      "Hardhome rating: 9.901234567891\n",
      "The Dance of Dragons rating: 9.501234567891\n",
      "Mother's Mercy rating: 9.101234567891\n",
      "The Red Woman rating: 8.501234567891\n",
      "Home rating: 9.401234567891\n",
      "Oathbreaker rating: 8.701234567891\n",
      "Book of the Stranger rating: 9.101234567891\n",
      "The Door rating: 9.701234567891\n",
      "Blood of My Blood rating: 8.401234567891\n",
      "The Broken Man rating: 8.601234567891\n",
      "No One rating: 8.401234567891\n",
      "Battle of the Bastards rating: 9.901234567891\n",
      "The Winds of Winter rating: 9.901234567891\n",
      "Dragonstone rating: 8.601234567891\n",
      "Stormborn rating: 8.901234567891\n",
      "The Queen's Justice rating: 9.201234567891\n",
      "The Spoils of War rating: 9.801234567891\n",
      "Eastwatch rating: 8.801234567891\n",
      "Beyond the Wall rating: 9.101234567891\n",
      "The Dragon and the Wolf rating: 9.501234567891\n",
      "Winterfell rating: 7.601234567891\n",
      "A Knight of the Seven Kingdoms rating: 7.901234567891\n",
      "The Long Night rating: 7.501234567891\n",
      "The Last of the Starks rating: 5.501234567891\n",
      "The Bells rating: 6.101234567891\n",
      "The Iron Throne rating: 4.201234567891\n"
     ]
    }
   ],
   "source": [
    "seasons = sorted(series['episodes'].keys())\n",
    "\n",
    "for s in seasons:\n",
    "    \n",
    "    #episodes by seasons:\n",
    "    episodes =  series['episodes'][s]\n",
    "    for e in episodes:\n",
    "        episode_o = series['episodes'][s][e]\n",
    "        print (episode_o['title'] + \" rating: \" + str(episode_o['rating']))\n",
    "        "
   ]
  },
  {
   "cell_type": "code",
   "execution_count": null,
   "metadata": {},
   "outputs": [],
   "source": []
  }
 ],
 "metadata": {
  "kernelspec": {
   "display_name": "Python 3",
   "language": "python",
   "name": "python3"
  },
  "language_info": {
   "codemirror_mode": {
    "name": "ipython",
    "version": 3
   },
   "file_extension": ".py",
   "mimetype": "text/x-python",
   "name": "python",
   "nbconvert_exporter": "python",
   "pygments_lexer": "ipython3",
   "version": "3.7.3"
  }
 },
 "nbformat": 4,
 "nbformat_minor": 2
}
