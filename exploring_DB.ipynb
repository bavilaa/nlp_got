{
  "nbformat": 4,
  "nbformat_minor": 0,
  "metadata": {
    "colab": {
      "name": "exploring_DB.ipynb",
      "provenance": [],
      "collapsed_sections": [],
      "include_colab_link": true
    },
    "kernelspec": {
      "name": "python3",
      "display_name": "Python 3"
    }
  },
  "cells": [
    {
      "cell_type": "markdown",
      "metadata": {
        "id": "view-in-github",
        "colab_type": "text"
      },
      "source": [
        "<a href=\"https://colab.research.google.com/github/bavilaa/nlp_got/blob/master/exploring_DB.ipynb\" target=\"_parent\"><img src=\"https://colab.research.google.com/assets/colab-badge.svg\" alt=\"Open In Colab\"/></a>"
      ]
    },
    {
      "cell_type": "code",
      "metadata": {
        "id": "VPNK_ohzbx7K",
        "colab_type": "code",
        "colab": {}
      },
      "source": [
        "#Y,si             , _ ,\n",
        "#                ( o o )\n",
        "#               /'` ' `'\\\n",
        "#        ,      |'''''''|\n",
        "#               |\\\\'''//|\n",
        "#                  \"\"\"\n",
        "#BAA"
      ],
      "execution_count": 0,
      "outputs": []
    },
    {
      "cell_type": "code",
      "metadata": {
        "id": "uehtDNiuQiSg",
        "colab_type": "code",
        "colab": {}
      },
      "source": [
        "#Activating Google Drive\n",
        "\n",
        "from pydrive.auth import GoogleAuth\n",
        "from pydrive.drive import GoogleDrive\n",
        "from google.colab import auth\n",
        "from oauth2client.client import GoogleCredentials\n",
        "\n",
        "auth.authenticate_user()\n",
        "gauth = GoogleAuth()\n",
        "gauth.credentials = GoogleCredentials.get_application_default()\n",
        "drive = GoogleDrive(gauth)\n"
      ],
      "execution_count": 0,
      "outputs": []
    },
    {
      "cell_type": "code",
      "metadata": {
        "id": "qJbgvy_ARB1c",
        "colab_type": "code",
        "colab": {
          "base_uri": "https://localhost:8080/",
          "height": 34
        },
        "outputId": "a1ea166e-ec6b-4d8e-9fd1-50304df8152f"
      },
      "source": [
        "from google.colab import drive\n",
        "drive.mount('/content/drive', force_remount=True)"
      ],
      "execution_count": 14,
      "outputs": [
        {
          "output_type": "stream",
          "text": [
            "Mounted at /content/drive\n"
          ],
          "name": "stdout"
        }
      ]
    },
    {
      "cell_type": "code",
      "metadata": {
        "id": "Qf1U7medRCcw",
        "colab_type": "code",
        "colab": {}
      },
      "source": [
        "import pandas as pd\n",
        "#plotting the index vs rating\n",
        "import seaborn as sns\n",
        "import matplotlib.pyplot as plt\n"
      ],
      "execution_count": 0,
      "outputs": []
    },
    {
      "cell_type": "code",
      "metadata": {
        "id": "X9qAkHHwSSNT",
        "colab_type": "code",
        "colab": {}
      },
      "source": [
        "route = '/content/drive/My Drive/Colab Notebooks/Project_NLP/'\n",
        "bd_name =  \"scripts_bd.csv\"\n",
        "\n",
        "df = pd.read_csv(route + bd_name)"
      ],
      "execution_count": 0,
      "outputs": []
    },
    {
      "cell_type": "code",
      "metadata": {
        "id": "NLH-Qq-xSlP-",
        "colab_type": "code",
        "colab": {
          "base_uri": "https://localhost:8080/",
          "height": 237
        },
        "outputId": "a7452253-63e0-4ce0-e4a0-a2a9e4616b62"
      },
      "source": [
        "df.head()"
      ],
      "execution_count": 17,
      "outputs": [
        {
          "output_type": "execute_result",
          "data": {
            "text/html": [
              "<div>\n",
              "<style scoped>\n",
              "    .dataframe tbody tr th:only-of-type {\n",
              "        vertical-align: middle;\n",
              "    }\n",
              "\n",
              "    .dataframe tbody tr th {\n",
              "        vertical-align: top;\n",
              "    }\n",
              "\n",
              "    .dataframe thead th {\n",
              "        text-align: right;\n",
              "    }\n",
              "</style>\n",
              "<table border=\"1\" class=\"dataframe\">\n",
              "  <thead>\n",
              "    <tr style=\"text-align: right;\">\n",
              "      <th></th>\n",
              "      <th>Unnamed: 0</th>\n",
              "      <th>Season_Episode</th>\n",
              "      <th>Script</th>\n",
              "      <th>Status</th>\n",
              "      <th>Season</th>\n",
              "      <th>Episode</th>\n",
              "    </tr>\n",
              "  </thead>\n",
              "  <tbody>\n",
              "    <tr>\n",
              "      <th>0</th>\n",
              "      <td>0</td>\n",
              "      <td>s01e01</td>\n",
              "      <td>Easy, boy. What do you exp...</td>\n",
              "      <td>1</td>\n",
              "      <td>1</td>\n",
              "      <td>1</td>\n",
              "    </tr>\n",
              "    <tr>\n",
              "      <th>1</th>\n",
              "      <td>1</td>\n",
              "      <td>s01e02</td>\n",
              "      <td>You need to drink, child. ...</td>\n",
              "      <td>1</td>\n",
              "      <td>1</td>\n",
              "      <td>2</td>\n",
              "    </tr>\n",
              "    <tr>\n",
              "      <th>2</th>\n",
              "      <td>2</td>\n",
              "      <td>s01e03</td>\n",
              "      <td>Welcome, Lord Stark. Grand...</td>\n",
              "      <td>1</td>\n",
              "      <td>1</td>\n",
              "      <td>3</td>\n",
              "    </tr>\n",
              "    <tr>\n",
              "      <th>3</th>\n",
              "      <td>3</td>\n",
              "      <td>s01e04</td>\n",
              "      <td>The little lord's been dre...</td>\n",
              "      <td>1</td>\n",
              "      <td>1</td>\n",
              "      <td>4</td>\n",
              "    </tr>\n",
              "    <tr>\n",
              "      <th>4</th>\n",
              "      <td>4</td>\n",
              "      <td>s01e05</td>\n",
              "      <td>Does Ser Hugh have any fam...</td>\n",
              "      <td>1</td>\n",
              "      <td>1</td>\n",
              "      <td>5</td>\n",
              "    </tr>\n",
              "  </tbody>\n",
              "</table>\n",
              "</div>"
            ],
            "text/plain": [
              "   Unnamed: 0 Season_Episode  ... Season  Episode\n",
              "0           0         s01e01  ...      1        1\n",
              "1           1         s01e02  ...      1        2\n",
              "2           2         s01e03  ...      1        3\n",
              "3           3         s01e04  ...      1        4\n",
              "4           4         s01e05  ...      1        5\n",
              "\n",
              "[5 rows x 6 columns]"
            ]
          },
          "metadata": {
            "tags": []
          },
          "execution_count": 17
        }
      ]
    },
    {
      "cell_type": "code",
      "metadata": {
        "id": "EbwoM3yVSlx8",
        "colab_type": "code",
        "colab": {}
      },
      "source": [
        "#Counting the number of words of every Script\n",
        "\n",
        "df['totalwords'] = df['Script'].str.split().str.len()\n",
        "\n"
      ],
      "execution_count": 0,
      "outputs": []
    },
    {
      "cell_type": "code",
      "metadata": {
        "id": "eatam1XCaFxm",
        "colab_type": "code",
        "colab": {}
      },
      "source": [
        "df.sort_values(['Season' , 'Episode'])\n",
        "#reseting the index\n",
        "df = df.reset_index()\n"
      ],
      "execution_count": 0,
      "outputs": []
    },
    {
      "cell_type": "code",
      "metadata": {
        "id": "Es_A8wCtcNs4",
        "colab_type": "code",
        "colab": {
          "base_uri": "https://localhost:8080/",
          "height": 283
        },
        "outputId": "dc5f2f14-1514-41e6-de94-edf441ba575f"
      },
      "source": [
        "sns.lineplot(x=\"index\", y=\"totalwords\",\n",
        "legend=\"full\", data=df);"
      ],
      "execution_count": 29,
      "outputs": [
        {
          "output_type": "display_data",
          "data": {
            "image/png": "[encoded data removed]",
            "text/plain": [
              "<Figure size 432x288 with 1 Axes>"
            ]
          },
          "metadata": {
            "tags": []
          }
        }
      ]
    },
    {
      "cell_type": "code",
      "metadata": {
        "id": "E4ou1sOMdB-d",
        "colab_type": "code",
        "colab": {
          "base_uri": "https://localhost:8080/",
          "height": 1000
        },
        "outputId": "17e008a2-8a31-4df9-97f9-f7e6a1a49b49"
      },
      "source": [
        "df['totalwords']"
      ],
      "execution_count": 30,
      "outputs": [
        {
          "output_type": "execute_result",
          "data": {
            "text/plain": [
              "0      2813.0\n",
              "1      3478.0\n",
              "2      3727.0\n",
              "3      5101.0\n",
              "4      5416.0\n",
              "5      3623.0\n",
              "6      3938.0\n",
              "7      3328.0\n",
              "8      4469.0\n",
              "9      4036.0\n",
              "10     4822.0\n",
              "11     5138.0\n",
              "12     4134.0\n",
              "13     4253.0\n",
              "14     5551.0\n",
              "15     4640.0\n",
              "16     5349.0\n",
              "17     5436.0\n",
              "18     3887.0\n",
              "19     4348.0\n",
              "20     4470.0\n",
              "21     5435.0\n",
              "22     4882.0\n",
              "23     4883.0\n",
              "24     5602.0\n",
              "25     4538.0\n",
              "26     4997.0\n",
              "27     4024.0\n",
              "28     3571.0\n",
              "29     5104.0\n",
              "       ...   \n",
              "46     3974.0\n",
              "47     4451.0\n",
              "48     4159.0\n",
              "49     3289.0\n",
              "50     3006.0\n",
              "51     2659.0\n",
              "52     3102.0\n",
              "53     3542.0\n",
              "54     4494.0\n",
              "55     4233.0\n",
              "56     3719.0\n",
              "57     4218.0\n",
              "58     4225.0\n",
              "59     2968.0\n",
              "60     4037.0\n",
              "61     9749.0\n",
              "62        NaN\n",
              "63     4625.0\n",
              "64     6263.0\n",
              "65     3536.0\n",
              "66     4847.0\n",
              "67     4125.0\n",
              "68     5850.0\n",
              "69     3412.0\n",
              "70     4680.0\n",
              "71     1314.0\n",
              "72     5446.0\n",
              "73     3223.0\n",
              "74     3204.0\n",
              "75    13029.0\n",
              "Name: totalwords, Length: 76, dtype: float64"
            ]
          },
          "metadata": {
            "tags": []
          },
          "execution_count": 30
        }
      ]
    },
    {
      "cell_type": "code",
      "metadata": {
        "id": "iy8pBH52cuEp",
        "colab_type": "code",
        "colab": {}
      },
      "source": [
        ""
      ],
      "execution_count": 0,
      "outputs": []
    }
  ]
}