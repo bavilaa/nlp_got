{
  "nbformat": 4,
  "nbformat_minor": 0,
  "metadata": {
    "colab": {
      "name": "scraping_scripts.ipynb",
      "provenance": [],
      "collapsed_sections": [],
      "include_colab_link": true
    },
    "kernelspec": {
      "name": "python3",
      "display_name": "Python 3"
    }
  },
  "cells": [
    {
      "cell_type": "markdown",
      "metadata": {
        "id": "view-in-github",
        "colab_type": "text"
      },
      "source": [
        "<a href=\"https://colab.research.google.com/github/bavilaa/nlp_got/blob/master/scraping_scripts.ipynb\" target=\"_parent\"><img src=\"https://colab.research.google.com/assets/colab-badge.svg\" alt=\"Open In Colab\"/></a>"
      ]
    },
    {
      "cell_type": "code",
      "metadata": {
        "id": "fQHTcnSbRmOG",
        "colab_type": "code",
        "colab": {}
      },
      "source": [
        " #                 , _ ,\n",
        " #                ( o o )\n",
        " #               /'` ' `'\\\n",
        " #               |'''''''|\n",
        " #               |\\\\'''//|\n",
        " #                  \"\"\"\n",
        "#BAA"
      ],
      "execution_count": 0,
      "outputs": []
    },
    {
      "cell_type": "code",
      "metadata": {
        "id": "75zfx6UX_l9r",
        "colab_type": "code",
        "colab": {}
      },
      "source": [
        "#Activating Google Drive\n",
        "\n",
        "from pydrive.auth import GoogleAuth\n",
        "from pydrive.drive import GoogleDrive\n",
        "from google.colab import auth\n",
        "from oauth2client.client import GoogleCredentials\n",
        "\n",
        "auth.authenticate_user()\n",
        "gauth = GoogleAuth()\n",
        "gauth.credentials = GoogleCredentials.get_application_default()\n",
        "drive = GoogleDrive(gauth)\n"
      ],
      "execution_count": 0,
      "outputs": []
    },
    {
      "cell_type": "code",
      "metadata": {
        "id": "Jifwv5BVNqje",
        "colab_type": "code",
        "colab": {
          "base_uri": "https://localhost:8080/",
          "height": 34
        },
        "outputId": "d2ea4a42-c32c-4dc5-af1c-2ba516efcd2d"
      },
      "source": [
        "from google.colab import drive\n",
        "drive.mount('/content/drive', force_remount=True)"
      ],
      "execution_count": 2,
      "outputs": [
        {
          "output_type": "stream",
          "text": [
            "Mounted at /content/drive\n"
          ],
          "name": "stdout"
        }
      ]
    },
    {
      "cell_type": "code",
      "metadata": {
        "id": "lNi35CfyvqMZ",
        "colab_type": "code",
        "colab": {}
      },
      "source": [
        "#Scraping scripts of Game of Thrones\n",
        "\n",
        "#importing mechanize, useful library to download plain html from  webpages.\n",
        "\n",
        "import mechanize\n",
        "from lxml import etree\n",
        "import re\n",
        "\n",
        "#beautiful soup, another library to parse html\n",
        "from bs4 import BeautifulSoup\n",
        "\n",
        "#pandas\n",
        "\n",
        "import pandas as pd\n",
        "\n",
        "\n",
        "\n"
      ],
      "execution_count": 0,
      "outputs": []
    },
    {
      "cell_type": "code",
      "metadata": {
        "id": "AsbLF-hyv8gW",
        "colab_type": "code",
        "colab": {}
      },
      "source": [
        "#Loading the webpage\n",
        "\n",
        "browser = mechanize.Browser()\n",
        "url = \"https://www.springfieldspringfield.co.uk/episode_scripts.php?tv-show=game-of-thrones\"\n",
        "browser = mechanize.Browser()\n",
        "html = browser.open(url).get_data()\n"
      ],
      "execution_count": 0,
      "outputs": []
    },
    {
      "cell_type": "code",
      "metadata": {
        "id": "9kFr1Y9yyY0U",
        "colab_type": "code",
        "colab": {}
      },
      "source": [
        "#Getting all the links from all the seasons of Game of trhones\n",
        "#using lxml\n",
        "\n",
        "\n",
        "\n",
        "#links are in the form of //*[@id=\"content_container\"]/div[2]/div[2]/div[season]/a[episode]\n",
        "#starting season in = 3\n",
        "\n",
        "#loading html into xlml\n",
        "tree = etree.HTML(html)\n",
        "\n",
        "#list for the links\n",
        "links = []\n",
        "\n",
        "for s in range (3,14):\n",
        "  for e in range(1,30):\n",
        "\n",
        "    route = '//*[@id=\"content_container\"]/div[2]/div[2]/div[' + str(s) + ']/a[' + str(e) + ']'\n",
        "\n",
        "    try:\n",
        "      route_link = tree.xpath(route)\n",
        "      link = route_link[0].attrib['href']\n",
        "      #print (link)\n",
        "      #saving the link into the list:\n",
        "      links.append(link)\n",
        "\n",
        "    except:\n",
        "      continue\n",
        "\n"
      ],
      "execution_count": 0,
      "outputs": []
    },
    {
      "cell_type": "code",
      "metadata": {
        "id": "UNlZEFQo9CdU",
        "colab_type": "code",
        "colab": {}
      },
      "source": [
        "#Simple function to clean the text\n",
        "\n",
        "def clean_html(html):\n",
        "    \"\"\"\n",
        "    Removes most common formatting of a string that represents a price\n",
        "    leaving it only with its numbers.\n",
        "    \"\"\"\n",
        "\n",
        "    blacklist = ['\\r', '\\n', '\\t']\n",
        "\n",
        "    for item in blacklist:\n",
        "        html = html.replace(item, '')\n",
        "\n",
        "    return html\n"
      ],
      "execution_count": 0,
      "outputs": []
    },
    {
      "cell_type": "code",
      "metadata": {
        "id": "71oLG7jjyni_",
        "colab_type": "code",
        "colab": {}
      },
      "source": [
        "#Now , with all the links is necessary to load the link and extract the script from the webpage\n",
        "\n",
        "scripts = []\n",
        "\n",
        "j = 0\n",
        "url_script = links[j]\n",
        "\n",
        "for j in links:\n",
        "  \n",
        "  url_script = 'https://www.springfieldspringfield.co.uk/' + j\n",
        "  #print (url_script)\n",
        "\n",
        "  #Episode\n",
        "  episode = url_script[-6:]\n",
        "\n",
        "  #loading the html with the script\n",
        "  try:\n",
        "    html_script = browser.open(url_script).get_data()\n",
        "    status = 1\n",
        "    soup = BeautifulSoup(html_script , 'html.parser')\n",
        "\n",
        "  #extracting the script\n",
        "    scripts_route = soup.findAll(\"div\", {\"class\": \"scrolling-script-container\"})\n",
        "    script = clean_html(scripts_route[0].text)\n",
        "    status = 1\n",
        "    scripts.append ([episode,script,status])\n",
        "\n",
        "  except:\n",
        "    script = \"\"\n",
        "    status = 0\n",
        "    scripts.append ([episode,script,status])\n",
        "\n",
        "  #parsing html with BS\n",
        "  soup = BeautifulSoup(html_script , 'html.parser')\n",
        "\n",
        "  #extracting the script\n",
        "  #print (script[0:100])\n",
        "  \n",
        "\n",
        "\n",
        "\n"
      ],
      "execution_count": 0,
      "outputs": []
    },
    {
      "cell_type": "code",
      "metadata": {
        "id": "VoznEaE9L3A1",
        "colab_type": "code",
        "colab": {}
      },
      "source": [
        "#Saving dataframe into a csv file\n",
        "\n",
        "route = '/content/drive/My Drive/Colab Notebooks/Project_NLP/'\n",
        "\n",
        "df = pd.DataFrame(scripts)\n",
        "df.to_csv(route + \"scripts_bd.csv\")"
      ],
      "execution_count": 0,
      "outputs": []
    },
    {
      "cell_type": "code",
      "metadata": {
        "id": "yChAOey2Oyrj",
        "colab_type": "code",
        "colab": {
          "base_uri": "https://localhost:8080/",
          "height": 357
        },
        "outputId": "32f21266-3ad9-4857-c54d-c2d915f0b1bf"
      },
      "source": [
        "df.head(10)"
      ],
      "execution_count": 9,
      "outputs": [
        {
          "output_type": "execute_result",
          "data": {
            "text/html": [
              "<div>\n",
              "<style scoped>\n",
              "    .dataframe tbody tr th:only-of-type {\n",
              "        vertical-align: middle;\n",
              "    }\n",
              "\n",
              "    .dataframe tbody tr th {\n",
              "        vertical-align: top;\n",
              "    }\n",
              "\n",
              "    .dataframe thead th {\n",
              "        text-align: right;\n",
              "    }\n",
              "</style>\n",
              "<table border=\"1\" class=\"dataframe\">\n",
              "  <thead>\n",
              "    <tr style=\"text-align: right;\">\n",
              "      <th></th>\n",
              "      <th>0</th>\n",
              "      <th>1</th>\n",
              "      <th>2</th>\n",
              "    </tr>\n",
              "  </thead>\n",
              "  <tbody>\n",
              "    <tr>\n",
              "      <th>0</th>\n",
              "      <td>s01e01</td>\n",
              "      <td>Easy, boy. What do you exp...</td>\n",
              "      <td>1</td>\n",
              "    </tr>\n",
              "    <tr>\n",
              "      <th>1</th>\n",
              "      <td>s01e02</td>\n",
              "      <td>You need to drink, child. ...</td>\n",
              "      <td>1</td>\n",
              "    </tr>\n",
              "    <tr>\n",
              "      <th>2</th>\n",
              "      <td>s01e03</td>\n",
              "      <td>Welcome, Lord Stark. Grand...</td>\n",
              "      <td>1</td>\n",
              "    </tr>\n",
              "    <tr>\n",
              "      <th>3</th>\n",
              "      <td>s01e04</td>\n",
              "      <td>The little lord's been dre...</td>\n",
              "      <td>1</td>\n",
              "    </tr>\n",
              "    <tr>\n",
              "      <th>4</th>\n",
              "      <td>s01e05</td>\n",
              "      <td>Does Ser Hugh have any fam...</td>\n",
              "      <td>1</td>\n",
              "    </tr>\n",
              "    <tr>\n",
              "      <th>5</th>\n",
              "      <td>s01e06</td>\n",
              "      <td>Your pardon, Your Grace. I...</td>\n",
              "      <td>1</td>\n",
              "    </tr>\n",
              "    <tr>\n",
              "      <th>6</th>\n",
              "      <td>s01e07</td>\n",
              "      <td>\"Summoned to court to answ...</td>\n",
              "      <td>1</td>\n",
              "    </tr>\n",
              "    <tr>\n",
              "      <th>7</th>\n",
              "      <td>s01e08</td>\n",
              "      <td>Yah! Left high, left low. ...</td>\n",
              "      <td>1</td>\n",
              "    </tr>\n",
              "    <tr>\n",
              "      <th>8</th>\n",
              "      <td>s01e09</td>\n",
              "      <td>You've seen better days, m...</td>\n",
              "      <td>1</td>\n",
              "    </tr>\n",
              "    <tr>\n",
              "      <th>9</th>\n",
              "      <td>s01e10</td>\n",
              "      <td>Look at me. Look at me! Do...</td>\n",
              "      <td>1</td>\n",
              "    </tr>\n",
              "  </tbody>\n",
              "</table>\n",
              "</div>"
            ],
            "text/plain": [
              "        0                                                  1  2\n",
              "0  s01e01                      Easy, boy. What do you exp...  1\n",
              "1  s01e02                      You need to drink, child. ...  1\n",
              "2  s01e03                      Welcome, Lord Stark. Grand...  1\n",
              "3  s01e04                      The little lord's been dre...  1\n",
              "4  s01e05                      Does Ser Hugh have any fam...  1\n",
              "5  s01e06                      Your pardon, Your Grace. I...  1\n",
              "6  s01e07                      \"Summoned to court to answ...  1\n",
              "7  s01e08                      Yah! Left high, left low. ...  1\n",
              "8  s01e09                      You've seen better days, m...  1\n",
              "9  s01e10                      Look at me. Look at me! Do...  1"
            ]
          },
          "metadata": {
            "tags": []
          },
          "execution_count": 9
        }
      ]
    },
    {
      "cell_type": "code",
      "metadata": {
        "id": "kazwmbkCQDVw",
        "colab_type": "code",
        "colab": {}
      },
      "source": [
        ""
      ],
      "execution_count": 0,
      "outputs": []
    }
  ]
}