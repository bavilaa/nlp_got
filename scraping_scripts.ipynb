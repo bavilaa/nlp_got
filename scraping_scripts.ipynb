{
  "nbformat": 4,
  "nbformat_minor": 0,
  "metadata": {
    "colab": {
      "name": "scraping_scripts.ipynb",
      "provenance": []
    },
    "kernelspec": {
      "name": "python3",
      "display_name": "Python 3"
    }
  },
  "cells": [
    {
      "cell_type": "code",
      "metadata": {
        "id": "lNi35CfyvqMZ",
        "colab_type": "code",
        "colab": {}
      },
      "source": [
        "#Scraping scripts of Game of Thrones\n",
        "\n",
        "#importing mechanize, librarry usesfull to download the plain html from the webpages.\n",
        "\n",
        "import mechanize\n"
      ],
      "execution_count": 0,
      "outputs": []
    },
    {
      "cell_type": "code",
      "metadata": {
        "id": "AsbLF-hyv8gW",
        "colab_type": "code",
        "colab": {}
      },
      "source": [
        ""
      ],
      "execution_count": 0,
      "outputs": []
    }
  ]
}