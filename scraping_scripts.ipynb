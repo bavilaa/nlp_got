{
  "nbformat": 4,
  "nbformat_minor": 0,
  "metadata": {
    "colab": {
      "name": "scraping_scripts.ipynb",
      "provenance": [],
      "collapsed_sections": [],
      "include_colab_link": true
    },
    "kernelspec": {
      "name": "python3",
      "display_name": "Python 3"
    }
  },
  "cells": [
    {
      "cell_type": "markdown",
      "metadata": {
        "id": "view-in-github",
        "colab_type": "text"
      },
      "source": [
        "<a href=\"https://colab.research.google.com/github/bavilaa/nlp_got/blob/master/scraping_scripts.ipynb\" target=\"_parent\"><img src=\"https://colab.research.google.com/assets/colab-badge.svg\" alt=\"Open In Colab\"/></a>"
      ]
    },
    {
      "cell_type": "code",
      "metadata": {
        "id": "fQHTcnSbRmOG",
        "colab_type": "code",
        "colab": {}
      },
      "source": [
        "#                 , _ ,\n",
        "#                ( o o )\n",
        "#               /'` ' `'\\\n",
        "#               |'''''''|\n",
        "#               |\\\\'''//|\n",
        "#                  \"\"\"\n",
        "#BAA"
      ],
      "execution_count": 0,
      "outputs": []
    },
    {
      "cell_type": "code",
      "metadata": {
        "id": "75zfx6UX_l9r",
        "colab_type": "code",
        "colab": {}
      },
      "source": [
        "#Activating Google Drive\n",
        "\n",
        "from pydrive.auth import GoogleAuth\n",
        "from pydrive.drive import GoogleDrive\n",
        "from google.colab import auth\n",
        "from oauth2client.client import GoogleCredentials\n",
        "\n",
        "auth.authenticate_user()\n",
        "gauth = GoogleAuth()\n",
        "gauth.credentials = GoogleCredentials.get_application_default()\n",
        "drive = GoogleDrive(gauth)\n"
      ],
      "execution_count": 0,
      "outputs": []
    },
    {
      "cell_type": "code",
      "metadata": {
        "id": "Jifwv5BVNqje",
        "colab_type": "code",
        "colab": {
          "base_uri": "https://localhost:8080/",
          "height": 34
        },
        "outputId": "4762fe49-f2f8-42f9-f8df-a8ea43062da5"
      },
      "source": [
        "from google.colab import drive\n",
        "drive.mount('/content/drive', force_remount=True)"
      ],
      "execution_count": 3,
      "outputs": [
        {
          "output_type": "stream",
          "text": [
            "Mounted at /content/drive\n"
          ],
          "name": "stdout"
        }
      ]
    },
    {
      "cell_type": "code",
      "metadata": {
        "id": "lNi35CfyvqMZ",
        "colab_type": "code",
        "colab": {}
      },
      "source": [
        "#Scraping scripts of Game of Thrones\n",
        "\n",
        "#importing mechanize, useful library to download plain html from  webpages.\n",
        "\n",
        "import mechanize\n",
        "from lxml import etree\n",
        "import re\n",
        "\n",
        "#beautiful soup, another library to parse html\n",
        "from bs4 import BeautifulSoup\n",
        "\n",
        "#pandas\n",
        "\n",
        "import pandas as pd\n",
        "\n",
        "\n",
        "\n"
      ],
      "execution_count": 0,
      "outputs": []
    },
    {
      "cell_type": "code",
      "metadata": {
        "id": "AsbLF-hyv8gW",
        "colab_type": "code",
        "colab": {}
      },
      "source": [
        "#Loading the webpage\n",
        "\n",
        "browser = mechanize.Browser()\n",
        "url = \"https://www.springfieldspringfield.co.uk/episode_scripts.php?tv-show=game-of-thrones\"\n",
        "browser = mechanize.Browser()\n",
        "html = browser.open(url).get_data()\n"
      ],
      "execution_count": 0,
      "outputs": []
    },
    {
      "cell_type": "code",
      "metadata": {
        "id": "9kFr1Y9yyY0U",
        "colab_type": "code",
        "colab": {}
      },
      "source": [
        "#Getting all the links from all the seasons of Game of trhones\n",
        "#using lxml\n",
        "\n",
        "\n",
        "\n",
        "#links are in the form of //*[@id=\"content_container\"]/div[2]/div[2]/div[season]/a[episode]\n",
        "#starting season in = 3\n",
        "\n",
        "#loading html into xlml\n",
        "tree = etree.HTML(html)\n",
        "\n",
        "#list for the links\n",
        "links = []\n",
        "\n",
        "for s in range (3,14):\n",
        "  for e in range(1,30):\n",
        "\n",
        "    route = '//*[@id=\"content_container\"]/div[2]/div[2]/div[' + str(s) + ']/a[' + str(e) + ']'\n",
        "\n",
        "    try:\n",
        "      route_link = tree.xpath(route)\n",
        "      link = route_link[0].attrib['href']\n",
        "      #print (link)\n",
        "      #saving the link into the list:\n",
        "      links.append(link)\n",
        "\n",
        "    except:\n",
        "      continue\n",
        "\n"
      ],
      "execution_count": 0,
      "outputs": []
    },
    {
      "cell_type": "code",
      "metadata": {
        "id": "UNlZEFQo9CdU",
        "colab_type": "code",
        "colab": {}
      },
      "source": [
        "#Simple function to clean the text\n",
        "\n",
        "def clean_html(html):\n",
        "    \"\"\"\n",
        "    Removes most common formatting of a string that represents a price\n",
        "    leaving it only with its numbers.\n",
        "    \"\"\"\n",
        "\n",
        "    blacklist = ['\\r', '\\n', '\\t']\n",
        "\n",
        "    for item in blacklist:\n",
        "        html = html.replace(item, '')\n",
        "\n",
        "    return html\n"
      ],
      "execution_count": 0,
      "outputs": []
    },
    {
      "cell_type": "code",
      "metadata": {
        "id": "71oLG7jjyni_",
        "colab_type": "code",
        "colab": {}
      },
      "source": [
        "#Now , with all the links is necessary to load the link and extract the script from the webpage\n",
        "\n",
        "scripts = []\n",
        "\n",
        "j = 0\n",
        "url_script = links[j]\n",
        "\n",
        "for j in links:\n",
        "  \n",
        "  url_script = 'https://www.springfieldspringfield.co.uk/' + j\n",
        "  #print (url_script)\n",
        "\n",
        "  #Episode\n",
        "  episode = url_script[-6:]\n",
        "\n",
        "  #loading the html with the script\n",
        "  try:\n",
        "    html_script = browser.open(url_script).get_data()\n",
        "    status = 1\n",
        "    soup = BeautifulSoup(html_script , 'html.parser')\n",
        "\n",
        "  #extracting the script\n",
        "    scripts_route = soup.findAll(\"div\", {\"class\": \"scrolling-script-container\"})\n",
        "    script = clean_html(scripts_route[0].text)\n",
        "    status = 1\n",
        "    scripts.append ([episode,script,status])\n",
        "\n",
        "  except:\n",
        "    script = \"\"\n",
        "    status = 0\n",
        "    scripts.append ([episode,script,status])\n",
        "\n",
        "  #parsing html with BS\n",
        "  soup = BeautifulSoup(html_script , 'html.parser')\n",
        "\n",
        "  #extracting the script\n",
        "  #print (script[0:100])\n",
        "  \n",
        "\n",
        "\n",
        "\n"
      ],
      "execution_count": 0,
      "outputs": []
    },
    {
      "cell_type": "code",
      "metadata": {
        "id": "SDIfxiJpTP6v",
        "colab_type": "code",
        "colab": {}
      },
      "source": [
        "#Renaiming the columns\n",
        "df = pd.DataFrame(scripts)\n",
        "df.rename(columns = {0:'Season_Episode', 1:'Script', \n",
        "                              2:'Status' }, inplace = True)"
      ],
      "execution_count": 0,
      "outputs": []
    },
    {
      "cell_type": "code",
      "metadata": {
        "id": "yChAOey2Oyrj",
        "colab_type": "code",
        "colab": {}
      },
      "source": [
        "#Creating Season and Episde Column, useles to merge with rating database\n",
        "df['Season'] = df.Season_Episode.str[2:3]\n",
        "df['Episode'] = df.Season_Episode.str[4:6]\n",
        "df[[\"Season\", \"Episode\"]] = df[[\"Season\", \"Episode\"]].apply(pd.to_numeric)"
      ],
      "execution_count": 0,
      "outputs": []
    },
    {
      "cell_type": "code",
      "metadata": {
        "id": "GPr4nsfmaPWp",
        "colab_type": "code",
        "colab": {}
      },
      "source": [
        "#Saving dataframe into a csv file\n",
        "\n",
        "route = '/content/drive/My Drive/Colab Notebooks/Project_NLP/'\n",
        "\n",
        "\n",
        "df.to_csv(route + \"scripts_bd.csv\")"
      ],
      "execution_count": 0,
      "outputs": []
    },
    {
      "cell_type": "code",
      "metadata": {
        "id": "jFREqrtQUO3q",
        "colab_type": "code",
        "colab": {
          "base_uri": "https://localhost:8080/",
          "height": 203
        },
        "outputId": "b2c867e3-28f0-46d5-d6f3-c3ab8aa7169c"
      },
      "source": [
        "df.head(5)"
      ],
      "execution_count": 12,
      "outputs": [
        {
          "output_type": "execute_result",
          "data": {
            "text/html": [
              "<div>\n",
              "<style scoped>\n",
              "    .dataframe tbody tr th:only-of-type {\n",
              "        vertical-align: middle;\n",
              "    }\n",
              "\n",
              "    .dataframe tbody tr th {\n",
              "        vertical-align: top;\n",
              "    }\n",
              "\n",
              "    .dataframe thead th {\n",
              "        text-align: right;\n",
              "    }\n",
              "</style>\n",
              "<table border=\"1\" class=\"dataframe\">\n",
              "  <thead>\n",
              "    <tr style=\"text-align: right;\">\n",
              "      <th></th>\n",
              "      <th>Season_Episode</th>\n",
              "      <th>Script</th>\n",
              "      <th>Status</th>\n",
              "      <th>Season</th>\n",
              "      <th>Episode</th>\n",
              "    </tr>\n",
              "  </thead>\n",
              "  <tbody>\n",
              "    <tr>\n",
              "      <th>0</th>\n",
              "      <td>s01e01</td>\n",
              "      <td>Easy, boy. What do you exp...</td>\n",
              "      <td>1</td>\n",
              "      <td>1</td>\n",
              "      <td>1</td>\n",
              "    </tr>\n",
              "    <tr>\n",
              "      <th>1</th>\n",
              "      <td>s01e02</td>\n",
              "      <td>You need to drink, child. ...</td>\n",
              "      <td>1</td>\n",
              "      <td>1</td>\n",
              "      <td>2</td>\n",
              "    </tr>\n",
              "    <tr>\n",
              "      <th>2</th>\n",
              "      <td>s01e03</td>\n",
              "      <td>Welcome, Lord Stark. Grand...</td>\n",
              "      <td>1</td>\n",
              "      <td>1</td>\n",
              "      <td>3</td>\n",
              "    </tr>\n",
              "    <tr>\n",
              "      <th>3</th>\n",
              "      <td>s01e04</td>\n",
              "      <td>The little lord's been dre...</td>\n",
              "      <td>1</td>\n",
              "      <td>1</td>\n",
              "      <td>4</td>\n",
              "    </tr>\n",
              "    <tr>\n",
              "      <th>4</th>\n",
              "      <td>s01e05</td>\n",
              "      <td>Does Ser Hugh have any fam...</td>\n",
              "      <td>1</td>\n",
              "      <td>1</td>\n",
              "      <td>5</td>\n",
              "    </tr>\n",
              "  </tbody>\n",
              "</table>\n",
              "</div>"
            ],
            "text/plain": [
              "  Season_Episode  ... Episode\n",
              "0         s01e01  ...       1\n",
              "1         s01e02  ...       2\n",
              "2         s01e03  ...       3\n",
              "3         s01e04  ...       4\n",
              "4         s01e05  ...       5\n",
              "\n",
              "[5 rows x 5 columns]"
            ]
          },
          "metadata": {
            "tags": []
          },
          "execution_count": 12
        }
      ]
    },
    {
      "cell_type": "code",
      "metadata": {
        "id": "7yMTHJkrZuXH",
        "colab_type": "code",
        "colab": {}
      },
      "source": [
        ""
      ],
      "execution_count": 0,
      "outputs": []
    }
  ]
}